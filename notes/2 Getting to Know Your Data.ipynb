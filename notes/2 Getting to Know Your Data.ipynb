{
 "cells": [
  {
   "cell_type": "markdown",
   "metadata": {},
   "source": [
    "# Chapter 2: Getting to Know Your Data"
   ]
  },
  {
   "cell_type": "markdown",
   "metadata": {},
   "source": [
    "## Data Objects & Attributes\n",
    "\n",
    "- **Data set**: a set of data objects\n",
    "    - e.g., students, courses, customers, products\n",
    "- **Data object**\n",
    "    - an entity with certain attributes/features/dimensions/variables\n",
    "    - e.g., patient_id, name, DOB, address, office visits, lab tests\n",
    "- **Attribute type**: nominal, binary, ordinal, numeric"
   ]
  },
  {
   "cell_type": "markdown",
   "metadata": {},
   "source": [
    "### Attribute Types\n",
    "\n",
    "- **Nominal** (categorical)\n",
    "    - e.g., major, occupation, city \n",
    "- **Binary** (boolean, symmetric or asymmetric)\n",
    "    - e.g., CS major? professor? Boulder? \n",
    "- **Ordinal**\n",
    "    - degree, professional rank, vehicle size class \n",
    "- **Numeric**\n",
    "    - quantitative "
   ]
  },
  {
   "cell_type": "markdown",
   "metadata": {},
   "source": [
    "### Numeric Attributes\n",
    "\n",
    "- **Interval-scaled**\n",
    "    - e.g., 50 or 100 Fahrenheit degree; Year 2000 or 2020 \n",
    "- **Ratio-scaled** (true zero-point)\n",
    "    - e.g., age, dollars, number of books, number of cars \n",
    "- **Discrete vs. continuous**\n",
    "    - discrete: finite or countably infinite; integers vs. real numbers "
   ]
  },
  {
   "cell_type": "markdown",
   "metadata": {},
   "source": [
    "## Statistical Description of Data\n",
    "\n",
    "- Motivation: better understanding of the data\n",
    "    - e.g., sales, traffic volume, #likes\n",
    "- **Basics**: N, min, max\n",
    "- **Central tendency**: mean, median, mode, midrange\n",
    "- **Dispersion**: quartiles, interquartile range, variance"
   ]
  },
  {
   "cell_type": "markdown",
   "metadata": {},
   "source": [
    "### Central Tendency\n",
    "\n",
    "- **Mean** $\\displaystyle \\quad \\bar{x} = \\frac{1}{N} \\sum_{i=1}^N x_i = \\frac{x_1 + x_2 + \\cdots + x_N}{N}$\n",
    "    - weighted arithmetic mean $\\displaystyle \\quad \\bar{x} = \\frac{\\sum_{i=1}^N w_ix_i}{\\sum_{i=1}^N w_i} = \\frac{w_1x_1 + w_2x_2 + \\cdots + w_Nx_N}{w_1 + w_2 + \\cdots + w_N}$\n",
    "    - trimmed mean: chopping extreme values\n",
    "- **Median**\n",
    "    - middle value if N is odd, otherwise\n",
    "    - average of the middle two values\n",
    "    - $\\displaystyle median = L_1 + \\left(\\frac{N/2 - (\\sum freq)_l}{freq_{median}}\\right) width$\n",
    "- **Mode**: value that occurs most frequently\n",
    "    - unimodal, biomodal, trimodal, multimodal\n",
    "- **Midrange**: avg. of min and max"
   ]
  },
  {
   "cell_type": "markdown",
   "metadata": {},
   "source": [
    "### Data Dispersion\n",
    "\n",
    "- How much numeric data tend to spread\n",
    "- **Range**: difference between max and min\n",
    "- **Quartiles**: Q1 (25th percentile), Q3 (75th)\n",
    "- **Interquartile range**\n",
    "    - IQR = Q3 - Q1\n",
    "- **Five number summary**: min, Q1, median, Q3, max\n",
    "- **Outlier**: value higher/lower than 1.5 x IQR of Q3/Q1\n",
    "- **Variance**: $\\displaystyle \\quad \\sigma^2 = \\frac{1}{N} \\sum_{i=1}^N (x_i - \\bar{x})^2 = \\frac{1}{N} \\left[ \\sum x_i^2 - \\frac{1}{N} \\left(\\sum x_i \\right)^2 \\right]$\n",
    "- **Standard deviation**: square root of variance\n",
    "- **Boxplot**\n",
    "    - box: Q1, M, Q3, IQR\n",
    "    - whiskers:\n",
    "        - min, max, 1.5 x IQR\n",
    "    - outliers\n",
    "\n",
    "![Image: Boxplot](img/2.1.png)"
   ]
  },
  {
   "cell_type": "markdown",
   "metadata": {},
   "source": [
    "### Graphic Displays\n",
    "\n",
    "- **Histogram**\n",
    "\n",
    "![Image: Histogram](img/2.2.png)\n",
    "\n",
    "- **Scatter plot**\n",
    "\n",
    "![Image: Scatter Plot](img/2.3.png)"
   ]
  },
  {
   "cell_type": "markdown",
   "metadata": {},
   "source": [
    "## Data Visualization\n",
    "\n",
    "- Why data visualization?\n",
    "    - gain insights, qualitative overview, explore\n",
    "- Visualization methods\n",
    "    - pixel-oriented, icon-based, hierarchical\n",
    "    - geometric projection\n",
    "    - visualizing complex data and relations"
   ]
  },
  {
   "cell_type": "markdown",
   "metadata": {},
   "source": [
    "## Object Similarity/Dissimilarity\n",
    "\n",
    "- **Data matrix**\n",
    "    - object-by-attribute\n",
    "    - two modes\n",
    "    - $\\begin{bmatrix}\n",
    "        x_{11} & \\cdots & x_{1f} & \\cdots & x_{1p} \\\\\n",
    "        \\cdots & \\cdots & \\cdots & \\cdots & \\cdots \\\\\n",
    "        x_{i1} & \\cdots & x_{if} & \\cdots & x_{ip} \\\\\n",
    "        \\cdots & \\cdots & \\cdots & \\cdots & \\cdots \\\\\n",
    "        x_{n1} & \\cdots & x_{nf} & \\cdots & x_{np} \\\\\n",
    "    \\end{bmatrix}$\n",
    "- **Dissimilarity matrix**\n",
    "    - object-by-object\n",
    "    - one mode\n",
    "    - $\\begin{bmatrix}\n",
    "        0 \\\\\n",
    "        d(2,1) & 0 \\\\\n",
    "        d(3,1) & d(3,2) & 0 \\\\\n",
    "        \\vdots & \\vdots & \\vdots \\\\\n",
    "        d(n,1) & d(n,2) & \\cdots & \\cdots & 0\n",
    "    \\end{bmatrix}$\n",
    "- Usually measured by **distance**\n",
    "- **Minkowski** distance ($L_p$ norm)\n",
    "    - $\\displaystyle d(i,j) = \\left( |x_{i1} - x_{j1}|^p + |x_{i2} - x_{j2}|^p + \\cdots + |x_{in} - x_{jn}|^p \\right)^{1/p}$\n",
    "- **Euclidean** distance ($L_2$ norm)\n",
    "    - $\\displaystyle d(i,j) = \\sqrt{ (x_{i1} - x_{j1})^2 + (x_{i2} - x_{j2})^2 + \\cdots + (x_{in} - x_{jn})^2}$\n",
    "- **Manhattan** distance ($L_1$ norm)\n",
    "    - $\\displaystyle d(i,j) = |x_{i1} - x_{j1}| + |x_{i2} - x_{j2}| + \\cdots + |x_{in} - x_{jn}|$\n",
    "- Weighted distance"
   ]
  },
  {
   "cell_type": "markdown",
   "metadata": {},
   "source": [
    "### Distance Measure\n",
    "\n",
    "- Euclidean distance vs. Manhattan distance\n",
    "- Properties\n",
    "    - $d(i,j) \\geq 0$\n",
    "    - $d(i,i) = 0$\n",
    "    - $d(i,j) = d(j,i)$\n",
    "    - $d(i,j) \\leq d(i,k) + d(k,j)$\n",
    "    - (triangular inequality)\n",
    "\n",
    "![Image: Euclidean vs. Manhattan Distance](img/2.4.png)"
   ]
  },
  {
   "cell_type": "markdown",
   "metadata": {},
   "source": [
    "## Nominal Attributes\n",
    "\n",
    "- E.g., courses taken by different students\n",
    "- **Method 1**: simple matching\n",
    "    - $d(i,j) = (p - m) / p$\n",
    "    - $m$: # of matches, $p$: total # of variables\n",
    "- **Method 2**: view each state as a binary variable\n",
    "    - e.g., degree (BS,BA,MS,PhD); then (0,1,0,0) means BA"
   ]
  },
  {
   "cell_type": "markdown",
   "metadata": {},
   "source": [
    "## Binary Variables\n",
    "\n",
    "- Contingency table\n",
    "\n",
    "![Image: Contingency Table](img/2.5.png)\n",
    "\n",
    "- **Symmetric** binary variables $\\displaystyle \\quad d(i,j) = \\frac{r + s}{q + r + s + t}$\n",
    "- **Asymmetric** binary variables $\\displaystyle \\quad d(i,j) = \\frac{r + s}{q + r + s}$\n",
    "    - Jaccard coefficient $\\displaystyle \\quad sim(i,j) = \\frac{q}{q + r + s} = 1 - d(i,j)$"
   ]
  },
  {
   "cell_type": "markdown",
   "metadata": {},
   "source": [
    "### Example\n",
    "\n",
    "![Image: Binary Variables Example](img/2.6.png)\n",
    "\n",
    "- Gender: symmetric\n",
    "- Others: asymmetric\n",
    "- Consider only asymmetric binary variables\n",
    "- Y (yes) and P (positive) is 1, and N is 0 $\\displaystyle \\quad d(i,j) = \\frac{r + s}{q + r + s}$\n",
    "    - $d(\\text{Jack, Mary}) = (0+1)/(2+0+1) = 0.33$\n",
    "    - $d(\\text{Jack, Jim}) = (1+1)/(1+1+1) = 0.67$\n",
    "    - $d(\\text{Jim, Mary}) = (1+2)/(1+1+2) = 0.75$"
   ]
  },
  {
   "cell_type": "markdown",
   "metadata": {},
   "source": [
    "## Ordinal Variables\n",
    "\n",
    "- E.g., gold, silver, bronze\n",
    "- Order is important: **rank**\n",
    "- Treat like interval-scaled variables\n",
    "    - map to their ranks\n",
    "    - map to range [0, 1]\n",
    "- $\\displaystyle r_{if} \\in \\{1,\\ldots,M_f\\}, \\quad z_{if} = \\frac{r_{if} - 1}{M_f - 1}$\n",
    "- $(1,2,3) \\to (0.0, 0.5, 1.0)$\n",
    "- dissimilarity of interval-scaled variables"
   ]
  },
  {
   "cell_type": "markdown",
   "metadata": {},
   "source": [
    "## Variables of Mixed Types\n",
    "\n",
    "- Data may contain different types of variables\n",
    "- **Weighted combination** $\\displaystyle \\quad d(i,j) = \\frac{\\sum_{f=1}^p \\delta_{ij}^{(f)} d_{ij}^{(f)}}{\\sum_{f=1}^p \\delta_{ij}^{(f)}}$\n",
    "- $\\delta_{ij}^{(f)} = 0$ if\n",
    "    - $x_{if}$ or $x_{jf}$ is missing\n",
    "    - $x_{if} = x_{jf} = 0$ and $f$ is an asymmetric binary variable\n",
    "    - otherwise $=1$"
   ]
  },
  {
   "cell_type": "markdown",
   "metadata": {},
   "source": [
    "## Cosine Similarity Example\n",
    "\n",
    "![Image: Cosine Similarity Example](img/2.7.png)\n",
    "\n",
    "$\\displaystyle s(x,y) = \\frac{x^t \\cdot y}{||x|| ||y||}$\n",
    "\n",
    "- $D1 = (5,0,3,0,2,0,0,2,0,0)$\n",
    "- $D2 = (3,0,2,0,1,1,0,1,0,1)$\n",
    "- $D1 \\cdot D2 = 5 \\cdot 3 + 0 \\cdot 0 + \\ldots + 0 \\cdot 1 = 25$\n",
    "- $||D1|| = (5 \\cdot 5 + 0 \\cdot 0 + \\ldots + 0 \\cdot 0)^{1/2} = 6.481$\n",
    "- $||D2|| = 4.12$\n",
    "- $\\cos(D1, D2) = 0.936$"
   ]
  }
 ],
 "metadata": {
  "kernelspec": {
   "display_name": "Python 3.10.6 64-bit",
   "language": "python",
   "name": "python3"
  },
  "language_info": {
   "name": "python",
   "version": "3.10.6"
  },
  "orig_nbformat": 4,
  "vscode": {
   "interpreter": {
    "hash": "e7370f93d1d0cde622a1f8e1c04877d8463912d04d973331ad4851f04de6915a"
   }
  }
 },
 "nbformat": 4,
 "nbformat_minor": 2
}
