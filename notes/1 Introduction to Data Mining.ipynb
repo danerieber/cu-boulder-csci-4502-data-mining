{
 "cells": [
  {
   "cell_type": "markdown",
   "metadata": {},
   "source": [
    "# Chapter 1: Introduction to Data Mining"
   ]
  },
  {
   "cell_type": "markdown",
   "metadata": {},
   "source": [
    "## Into the Digital Era\n",
    "\n",
    "- People's daily lives\n",
    "    - 5 billion Internet users\n",
    "    - 500 million tweets/day\n",
    "- Scientific discovery\n",
    "    - LHC: 15 PB/year; LSST: 20 TB/night\n",
    "- IDC Digital Universe Report\n",
    "    - 0.8 ZB (2009) $\\to$ 35 ZB (2020)\n",
    "    - 4.4 ZB (2013) $\\to$ 44 ZB (2020)"
   ]
  },
  {
   "cell_type": "markdown",
   "metadata": {},
   "source": [
    "## Why Data Mining?\n",
    "\n",
    "- Data explosion: KB,MB,GB,TB,PB,EB,ZB,...\n",
    "    - data creation, transmission, storage, sharing, processing\n",
    "    - *We are drowning in data, but starving for knowledge!*\n",
    "- Need automated analysis of massive data"
   ]
  },
  {
   "cell_type": "markdown",
   "metadata": {},
   "source": [
    "## What Is Data Mining?\n",
    "\n",
    "- Data mining (knowledge discovery from data)\n",
    "    - extraction of interesting patterns or knowledge from huge amounts of data\n",
    "    - **interesting:** valid, previously unknown, potentially useful, ultimately understandable by human\n",
    "    - **huge amounts of data:** scalability, efficiency"
   ]
  },
  {
   "cell_type": "markdown",
   "metadata": {},
   "source": [
    "## DM Application Areas\n",
    "\n",
    "- **Science**\n",
    "    - astrophysics, bioinformatics, drug discovery, sustainable energy, oceanography, seismology, ...\n",
    "- **Web**\n",
    "    - search engines, advertising, online social networks, trending, ...\n",
    "- **Business**\n",
    "    - market analysis, fraud detection, target marketing, churn prediction, product recommendation, ...\n",
    "- **Government**\n",
    "    - surveillance, crime detection, transportation, development, ..."
   ]
  },
  {
   "cell_type": "markdown",
   "metadata": {},
   "source": [
    "## Data Mining Pipeline\n",
    "\n",
    "![Image: Data Mining Pipeline](img/1.1.png)"
   ]
  },
  {
   "cell_type": "markdown",
   "metadata": {},
   "source": [
    "## Data Mining: Various Views\n",
    "\n",
    "- **Data** view\n",
    "    - types of data to be mined\n",
    "- **Method** view\n",
    "    - types of techniques utilized\n",
    "- **Knowledge** view\n",
    "    - types of knowledge to be discovered\n",
    "- **Application** view\n",
    "    - types of applications adapted"
   ]
  },
  {
   "cell_type": "markdown",
   "metadata": {},
   "source": [
    "## Data View\n",
    "\n",
    "- The 3Vs, 4Vs, and 5Vs\n",
    "\n",
    "![Image: Data View Vs](img/1.2.png)\n",
    "\n",
    "- **Database-oriented**\n",
    "    - relational, transactional\n",
    "    - data warehouse, NoSQL\n",
    "- **Sequence, stream, temporal, time-series data**\n",
    "    - trend analysis, anomaly\n",
    "- **Spatial, spatial-temporal data**\n",
    "- **Text, multimedia, Web data**\n",
    "    - topic detection, similarity, popularity, sentiment\n",
    "- **Graph, social networks data**\n",
    "    - substructures, shared interests, influencers, information diffusion"
   ]
  },
  {
   "cell_type": "markdown",
   "metadata": {},
   "source": [
    "## Knowledge View\n",
    "\n",
    "- Concept/class description\n",
    "- Frequent patterns, associations, correlations\n",
    "- Classification and prediction\n",
    "- Cluster analysis\n",
    "- Outlier analysis\n",
    "- Evolution analysis"
   ]
  },
  {
   "cell_type": "markdown",
   "metadata": {},
   "source": [
    "### Concept/Class Description\n",
    "\n",
    "- **Data characterization (summarization)**\n",
    "    - customers who spend $1000 a year\n",
    "    - age 40-50, employed, good credit ratings\n",
    "- **Data discrimination (contrast)**\n",
    "    - frequent vs. infrequent customers: e.g. age, education, employed\n",
    "    - dry vs. wet regions: e.g., precipitation, humidity, temperature"
   ]
  },
  {
   "cell_type": "markdown",
   "metadata": {},
   "source": [
    "### Frequent Patterns\n",
    "\n",
    "- Frequent **itemsets**\n",
    "    - e.g., (milk, bread, egg), (beer, diaper)\n",
    "- Frequent **sequences**\n",
    "    - e.g., <printer, paper>, <dinner, movie>\n",
    "- Frequent **structures**\n",
    "\n",
    "![Image: Frequent Structures](img/1.3.png)"
   ]
  },
  {
   "cell_type": "markdown",
   "metadata": {},
   "source": [
    "### Associations\n",
    "\n",
    "- Association analysis\n",
    "    - buys (X, milk) $\\Rightarrow$ buys (X, bread)\n",
    "    - [support = 0.5%, confidence = 75%]\n",
    "- Minimum support (or confidence) threshold\n",
    "- **Support**\n",
    "    - chance of A and B appearing together\n",
    "- **Confidence**\n",
    "    - if A appears, chance of B appears"
   ]
  },
  {
   "cell_type": "markdown",
   "metadata": {},
   "source": [
    "### Classification\n",
    "\n",
    "- Finding a model that describes and distinguishes data classes or concepts\n",
    "- Training data\n",
    "- IF-THEN rules, decision tree, neural network"
   ]
  },
  {
   "cell_type": "markdown",
   "metadata": {},
   "source": [
    "### Prediction\n",
    "\n",
    "- Numerical prediction: continuous-valued instead of class labels\n",
    "- E.g., weather, stock price, traffic"
   ]
  },
  {
   "cell_type": "markdown",
   "metadata": {},
   "source": [
    "### Cluster Analysis\n",
    "\n",
    "- Class labels unknown\n",
    "- **Intraclass similarity**\n",
    "    - maximize, closeness\n",
    "- **Interclass similarity**\n",
    "    - minimize, separation\n",
    "- Hierarchical"
   ]
  },
  {
   "cell_type": "markdown",
   "metadata": {},
   "source": [
    "### Outlier Analysis\n",
    "\n",
    "- Outliers\n",
    "    - do not comply with the general model\n",
    "- Noise or exception\n",
    "- Fraud detection, rare event analysis\n",
    "- E.g. credit fraud analysis"
   ]
  },
  {
   "cell_type": "markdown",
   "metadata": {},
   "source": [
    "### Trend and Evolution Analysis\n",
    "\n",
    "- Trends, deviations\n",
    "- Sequential pattern mining\n",
    "    - e.g., traffic congestion\n",
    "- Periodicity analysis\n",
    "- E.g., music, applications, ..."
   ]
  },
  {
   "cell_type": "markdown",
   "metadata": {},
   "source": [
    "### Market Analysis/Management\n",
    "\n",
    "- Data sources: credit card transactions, club cards, customer calls, ...\n",
    "- What types of customers buy what products\n",
    "- What factors attract new customers\n",
    "- Target marketing, product recommendation, discount\n",
    "- Fraud detection"
   ]
  },
  {
   "cell_type": "markdown",
   "metadata": {},
   "source": [
    "## Are the Patterns Interesting?\n",
    "\n",
    "- Interesting pattern\n",
    "    - **valid** on new/test data with some certainty\n",
    "    - **novel**\n",
    "    - potentially **useful**\n",
    "    - ultimately **understandable** by humans\n",
    "- Objective measures\n",
    "    - e.g., support, confidence, false positive/negative, accuracy\n",
    "- Subjective measures\n",
    "- Completeness, exclusiveness"
   ]
  },
  {
   "cell_type": "markdown",
   "metadata": {},
   "source": [
    "## Major Issues in Data Mining\n",
    "\n",
    "- **Mining technology**\n",
    "    - mining different knowledge from diverse data (maybe noisy or incomplete)\n",
    "    - pattern evaluation: interestingness\n",
    "    - efficiency, effectiveness, scalability\n",
    "    - parallel, distributed, incremental mining\n",
    "    - incorporation of background knowledge\n",
    "    - integration of discovered knowledge with existing knowledge\n",
    "- **User interaction**\n",
    "    - data mining query languages, ad-hoc mining\n",
    "    - expression and visualization of results\n",
    "    - interactive mining at multiple granularities\n",
    "- **Applications and social impacts**\n",
    "    - domain-specific data mining\n",
    "    - applications of data mining results\n",
    "    - protect data security, integrity, privacy"
   ]
  },
  {
   "cell_type": "markdown",
   "metadata": {},
   "source": [
    "## Data Science Ethics\n",
    "\n",
    "- Data ownership\n",
    "- Privacy, anonymity\n",
    "- Data and model validity\n",
    "- Data and model bias (algorithmic fairness)\n",
    "- Interpretation, application, societal consequence"
   ]
  },
  {
   "cell_type": "markdown",
   "metadata": {},
   "source": [
    "## Data Mining Resources\n",
    "\n",
    "- ACM SIGKDD: [https://www.kdd.org/](https://www.kdd.org/)\n",
    "- Conferences\n",
    "    - **KDD: tutorials, research, applied data science, KDD Cup, sponsors**\n",
    "    - SDM, ICDM, WSDM, CIKM, ICDE, TheWebConference (formerly WWW), SIGIR, ICML, CVPR, NuerIPS (formerly NIPS), SIGMOD, VLDB, ...\n",
    "- Journals\n",
    "    - TKDE, TKDD, DMKD, TPAMI, ..."
   ]
  }
 ],
 "metadata": {
  "kernelspec": {
   "display_name": "Python 3.10.6 64-bit",
   "language": "python",
   "name": "python3"
  },
  "language_info": {
   "name": "python",
   "version": "3.10.6"
  },
  "orig_nbformat": 4,
  "vscode": {
   "interpreter": {
    "hash": "e7370f93d1d0cde622a1f8e1c04877d8463912d04d973331ad4851f04de6915a"
   }
  }
 },
 "nbformat": 4,
 "nbformat_minor": 2
}
