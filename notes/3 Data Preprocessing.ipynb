{
 "cells": [
  {
   "cell_type": "markdown",
   "metadata": {},
   "source": [
    "# Chapter 3: Data Preprocessing"
   ]
  },
  {
   "cell_type": "markdown",
   "metadata": {},
   "source": [
    "## Measures of Data Quality\n",
    "\n",
    "- Accuracy\n",
    "- Completeness\n",
    "- Consistency\n",
    "- Timeliness\n",
    "- Believability\n",
    "- Interpretability\n",
    "- Accessibility"
   ]
  },
  {
   "cell_type": "markdown",
   "metadata": {},
   "source": [
    "## Major Tasks in Preprocessing\n",
    "\n",
    "- **Data cleaning**\n",
    "    - fill in missing values, smooth noisy data, identify or remove outliers, resolve inconsistencies\n",
    "- **Data integration**\n",
    "    - integration of multiple data sources\n",
    "- **Data reduction**\n",
    "     - dimensionality, numerosity, compression\n",
    "- **Data transformation and data discretization**\n",
    "    - normalization, concept hierarchy generation"
   ]
  },
  {
   "cell_type": "markdown",
   "metadata": {},
   "source": [
    "## Why Data Cleaning?\n",
    "\n",
    "- Imperfect real-world data\n",
    "- **Incomplete**: missing attributes, values\n",
    "    - e.g., age = \"\", major = \"\"\n",
    "- **Noisy**: containing errors or outliers\n",
    "    - e.g., salary = \"-10\"\n",
    "- **Inconsistent**: containing discrepancies\n",
    "    - e.g., age = \"21\", birthday = \"08/03/1995\"\n",
    "    - e.g., ratings of \"1, 2, 3\" and \"A, B, C\""
   ]
  },
  {
   "cell_type": "markdown",
   "metadata": {},
   "source": [
    "## Why Are Data Imperfect?\n",
    "\n",
    "- **Incomplete data**\n",
    "    - \"not applicable\" values\n",
    "    - time between collection and analysis\n",
    "    - human/hardware/software problems\n",
    "- **Noisy data**\n",
    "    - faulty data collection instruments\n",
    "    - human or computer error at data entry\n",
    "    - errors in data transmission\n",
    "- **Inconsistent data**\n",
    "    - different data sources\n",
    "    - naming conventions, data formats\n",
    "        - e.g., data \"03/07/11\"\n",
    "    - functional dependency violation\n",
    "        - e.g., modify some linked data\n",
    "- **No quality data, no quality data mining results!**"
   ]
  },
  {
   "cell_type": "markdown",
   "metadata": {},
   "source": [
    "## How to Handle Noisy Data?\n",
    "\n",
    "- **Binning**\n",
    "    - first sort & partition data into bins\n",
    "    - then smooth by\n",
    "        - bin means\n",
    "        - bin median\n",
    "        - bin boundaries\n",
    "\n",
    "![Image: Binning](img/3.1.png)\n",
    "\n",
    "- **Regression**\n",
    "    - fit data into regression functions\n",
    "\n",
    "![Image: Regression](img/3.2.png)\n",
    "\n",
    "- **Clustering**\n",
    "    - detect and remove outliers\n",
    "\n",
    "![Image: Clustering](img/3.3.png)"
   ]
  },
  {
   "cell_type": "markdown",
   "metadata": {},
   "source": [
    "## Data Integration\n",
    "\n",
    "- Combines data from multiple sources\n",
    "- **Entity identification**\n",
    "    - schema integration, object matching\n",
    "    - e.g., student_id vs. student_number\n",
    "- **Redundant data**\n",
    "    - different naming, derived data\n",
    "    - may be detected by correlation analysis"
   ]
  }
 ],
 "metadata": {
  "kernelspec": {
   "display_name": "Python 3.10.6 64-bit",
   "language": "python",
   "name": "python3"
  },
  "language_info": {
   "name": "python",
   "version": "3.10.6"
  },
  "orig_nbformat": 4,
  "vscode": {
   "interpreter": {
    "hash": "e7370f93d1d0cde622a1f8e1c04877d8463912d04d973331ad4851f04de6915a"
   }
  }
 },
 "nbformat": 4,
 "nbformat_minor": 2
}
