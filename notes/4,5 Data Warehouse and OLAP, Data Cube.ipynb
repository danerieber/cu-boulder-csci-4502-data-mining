{
 "cells": [
  {
   "cell_type": "markdown",
   "metadata": {},
   "source": [
    "# Chapters 4 & 5: Data Warehouse and OLAP, Data Cube"
   ]
  },
  {
   "cell_type": "markdown",
   "metadata": {},
   "source": [
    "## What is a Data Warehouse?\n",
    "\n",
    "- A decision support database that is maintained **separately** from and organization's operational database\n",
    "- Support **information processing** by providing a solid platform of consolidated, historical data for analysis\n",
    "- \"A data warehouse is a **subject-oriented**, **integrated**, **time-variant**, and **nonvolatile** collection of data in support of management's decision-making process.\" --- W. H. Inmon"
   ]
  },
  {
   "cell_type": "markdown",
   "metadata": {},
   "source": [
    "## Integrated\n",
    "\n",
    "- Integrate multiple, heterogeneous data sources\n",
    "    - relational database, flat files, on-line transaction records\n",
    "- **Data cleaning and data integration techniques applied**\n",
    "    - ensure consistency in naming, encoding, attribute measures, etc.\n",
    "    - e.g., hotel price: currency, tax, breakfast, ..."
   ]
  },
  {
   "cell_type": "markdown",
   "metadata": {},
   "source": [
    "## Subject-Oriented\n",
    "\n",
    "- Organized around **major subjects**\n",
    "    - e.g., customers, product, sales; students, courses, departments\n",
    "- Focus on the modeling & analysis of data for **decision making**, not on daily operations or transaction processing\n",
    "- Provide a simple & concise view around particular subject issues by **excluding data that are not useful in the decision support process**"
   ]
  },
  {
   "cell_type": "markdown",
   "metadata": {},
   "source": [
    "## Time-Variant\n",
    "\n",
    "- **Significantly longer time span**\n",
    "    - operational database: current data\n",
    "    - data warehouse: historical perspective\n",
    "        - e.g., past 5-10 years\n",
    "- Every key structure in a data warehouse\n",
    "    - **contains time info, explicitly or implicitly**\n",
    "    - key of operational data may ont contain time info"
   ]
  },
  {
   "cell_type": "markdown",
   "metadata": {},
   "source": [
    "## Nonvolatile\n",
    "\n",
    "- A **physically separate store** of data transformed from operational environments\n",
    "- **No operational update** of data\n",
    "    - no transaction processing, recovery, concurrency control\n",
    "- Only two operations in data accessing\n",
    "    - **initial loading** of data\n",
    "    - **access** of data"
   ]
  },
  {
   "cell_type": "markdown",
   "metadata": {},
   "source": [
    "## Data Warehouse vs. Operational DBMS\n",
    "\n",
    "- **OLTP** (on-line transaction processing)\n",
    "    - major task of traditional relational DBMS\n",
    "    - day-to-day operations\n",
    "- **OLAP** (on-line analytical processing)\n",
    "    - major task of data warehouse system\n",
    "    - data analysis and decision making"
   ]
  },
  {
   "cell_type": "markdown",
   "metadata": {},
   "source": [
    "## OLTP vs. OLAP\n",
    "\n",
    "||OLTP|OLAP|\n",
    "|---|---|---|\n",
    "|**users**|clerk, IT professional|knowledge worker|\n",
    "|**function**|day to day operations|decision support|\n",
    "|**DB design**|application-oriented|subject-oriented|\n",
    "|**data**|current, up-to-date, detailed, flat relational, isolated|historical, summarized, multidimensional, integrated, consolidated|\n",
    "|**usage**|repetitive|ad-hoc|\n",
    "|**access**|read/write, index/hash on prim. key|lots of scans|\n",
    "|**unit of work**|short, simple transaction|complex query|\n",
    "|**# records accessed**|tens|millions|\n",
    "|**# users**|thousands|hundreds|\n",
    "|**DB size**|100 MB-GB|100 GB-TB|\n",
    "|**metric**|transaction throughput|query throughput, response|"
   ]
  },
  {
   "cell_type": "markdown",
   "metadata": {},
   "source": [
    "## What is a Data Cube?\n",
    "\n",
    "- Data warehouses and OLAP are based on\n",
    "    - **a multi-dimensional data model\n",
    "- Data cube\n",
    "    - allow data to be modeled and viewed in multiple dimensions (e.g., sales)\n",
    "    - **dimensions**: e.g., time, item, branch, location\n",
    "    - **facts**: numerical measures, e.g., items_sold, dollars_sold"
   ]
  },
  {
   "cell_type": "markdown",
   "metadata": {},
   "source": [
    "## Data Cube Example\n",
    "\n",
    "![Data Cube Example](./img/4.1.png)"
   ]
  },
  {
   "cell_type": "markdown",
   "metadata": {},
   "source": [
    "## Conceptual Modeling\n",
    "\n",
    "- Modeling data warehouses: Dimensions & facts\n",
    "- **Star schema**\n",
    "    - a fact table, a set of dimension tables\n",
    "- **Snowflake schema**\n",
    "    - a fact table, a hierarchy of dimension tables\n",
    "- **Fact constellations**\n",
    "    - multiple fact tables share dimension tables"
   ]
  },
  {
   "cell_type": "markdown",
   "metadata": {},
   "source": [
    "## Example of Star Schema\n",
    "\n",
    "![Example of Star Schema](./img/4.2.png)"
   ]
  },
  {
   "cell_type": "markdown",
   "metadata": {},
   "source": [
    "## Example of Snowflake Schema\n",
    "\n",
    "![Example of Snowflake Schema](./img/4.3.png)"
   ]
  },
  {
   "cell_type": "markdown",
   "metadata": {},
   "source": [
    "## Example of Fact Constellation\n",
    "\n",
    "![Example of Fact Constellation](./img/4.4.png)"
   ]
  },
  {
   "cell_type": "markdown",
   "metadata": {},
   "source": [
    "## Typical OLAP Operations\n",
    "\n",
    "- **Roll-up** (drill-up): summarization\n",
    "- **Drill-down**: reverse of roll-up\n",
    "- **Slice and dice**: project and select (sub-cube)\n",
    "- **Pivot** (rotate): visualization, 3D to 2Ds\n",
    "- **drill-across**: more than one fact tables\n",
    "- **drill-through**: to the back-end relational tables"
   ]
  },
  {
   "cell_type": "markdown",
   "metadata": {},
   "source": [
    "## Cube: Lattice of Cuboids\n",
    "\n",
    "![Cube: Lattice of Cuboids](./img/4.5.png)"
   ]
  },
  {
   "cell_type": "markdown",
   "metadata": {},
   "source": [
    "## Cuboid Cells\n",
    "\n",
    "- **Cuboid cells**\n",
    "    - base vs. aggregate, ancestor vs. descendant\n",
    "- E.g., (month, location, customer_group, price)\n",
    "    - a = (Jan, *, *, 2800)\n",
    "    - b = (Jan, *, Business, 150)\n",
    "    - c = (Jan, Toronto, Business, 45)\n",
    "- **Materialization** of data cube\n",
    "    - full, partial, or no materialization"
   ]
  },
  {
   "cell_type": "markdown",
   "metadata": {},
   "source": [
    "## Iceberg Cube\n",
    "\n",
    "- Only a small portion may be *\"above the water\"* in a sparse cube\n",
    "- Compute only the cuboid cells whose aggregate (e.g., count) is above a threshold\n",
    "    - **minimum support**\n",
    "- Avoid explosive growth of the cube"
   ]
  },
  {
   "cell_type": "markdown",
   "metadata": {},
   "source": [
    "## Multi-Way Array Aggregation\n",
    "\n",
    "- **Full cube computation**\n",
    "- Array-based \"bottom-up\" algorithm\n",
    "- Multi-dimensional chunks\n",
    "- Simultaneous aggregation on multiple dimensions\n",
    "- Cannot do Apriori pruning\n",
    "- Not for high dimensions\n",
    "\n",
    "![Multi-Way Array Aggregation](./img/4.6.png)"
   ]
  },
  {
   "cell_type": "markdown",
   "metadata": {},
   "source": [
    "## Bottom-Up Computation (BUC)\n",
    "\n",
    "- [Beyer & Ramakrishnan, SIGMOD'99]\n",
    "- **Top-down computation of iceberg cubes**\n",
    "    - Divides dimensions into partitions and facilitates iceberg pruning"
   ]
  },
  {
   "cell_type": "markdown",
   "metadata": {},
   "source": [
    "## Data Warehouse Architecture\n",
    "\n",
    "![Data Warehouse Architecture](./img/4.7.png)"
   ]
  },
  {
   "cell_type": "markdown",
   "metadata": {},
   "source": [
    "## Cloud-based Data Warehousing\n",
    "\n",
    "- Scalability\n",
    "- Elasticity\n",
    "- E.g., Snowflake\n",
    "\n",
    "![Cloud-based Data Warehousing](./img/4.8.png)"
   ]
  }
 ],
 "metadata": {
  "kernelspec": {
   "display_name": "Python 3.10.8 64-bit",
   "language": "python",
   "name": "python3"
  },
  "language_info": {
   "name": "python",
   "version": "3.10.8"
  },
  "orig_nbformat": 4,
  "vscode": {
   "interpreter": {
    "hash": "e7370f93d1d0cde622a1f8e1c04877d8463912d04d973331ad4851f04de6915a"
   }
  }
 },
 "nbformat": 4,
 "nbformat_minor": 2
}
