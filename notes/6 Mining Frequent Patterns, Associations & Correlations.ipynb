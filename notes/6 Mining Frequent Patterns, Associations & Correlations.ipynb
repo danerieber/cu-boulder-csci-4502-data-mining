{
 "cells": [
  {
   "cell_type": "markdown",
   "metadata": {},
   "source": [
    "# Chapter 6: Mining Frequent Patterns, Associations & Correlations"
   ]
  },
  {
   "cell_type": "markdown",
   "metadata": {},
   "source": [
    "## Frequent Pattern Analysis\n",
    "\n",
    "- **Frequent patterns** in a data set\n",
    "    - *a set of items*\n",
    "    - *subsequences*\n",
    "    - *substructures*\n",
    "- Examples\n",
    "    - Web log\n",
    "    - Road traffic"
   ]
  },
  {
   "cell_type": "markdown",
   "metadata": {},
   "source": [
    "## Basic Concepts\n",
    "\n",
    "- **Frequent itemset**\n",
    "    - $X = \\{x_1, x_2, \\ldots, x_k\\}$\n",
    "- **Association rule** $X \\Rightarrow Y$\n",
    "    - **support**: probability that a transaction contains $X \\cup Y$\n",
    "    - **confidence**: conditional probability that a transaction containing $X$ also contains $Y$\n",
    "    - **minimum support, minimum confidence**"
   ]
  },
  {
   "cell_type": "markdown",
   "metadata": {},
   "source": [
    "## Example\n",
    "\n",
    "|Tid|Items|\n",
    "|---|---|\n",
    "|1|A,B,D|\n",
    "|2|A,C,D|\n",
    "|3|A,D,E|\n",
    "|4|B,E,F|\n",
    "|5|B,C,D,E,F|\n",
    "\n",
    "- Let min_sup = 50%, min_conf = 50%\n",
    "- Frequent patterns\n",
    "    - A **3**, B **3**, D **4**, E **3**, AD **3**\n",
    "- Association rules\n",
    "    - A $\\Rightarrow$ D (**60**%, **100**%)\n",
    "    - D $\\Rightarrow$ A (**60**%, **75**%)"
   ]
  },
  {
   "cell_type": "markdown",
   "metadata": {},
   "source": [
    "## Mining Association Rules\n",
    "\n",
    "- Two-step process\n",
    "    - find all **frequent itemsets** (w/ min_sup)\n",
    "    - generate **strong association rules** from the frequent itemsets (min_sup, min_conf)\n",
    "- A long pattern contains a combinatorial **number of subpatterns** (e.g., 100 items)\n",
    "    - $\\displaystyle {100 \\choose 1} + {100 \\choose 2} + \\cdots + {100 \\choose 100} = 2^{100} - 1 \\approx 1.27 \\times 10^{30}$"
   ]
  },
  {
   "cell_type": "markdown",
   "metadata": {},
   "source": [
    "## Closed & Max Patterns\n",
    "\n",
    "- Solution: mine closed patterns & max-patterns\n",
    "- **Closed pattern** $X$\n",
    "    - no super-pattern $Y \\supset X$ w/ the same support\n",
    "- **Max-pattern** $X$\n",
    "    - no super-pattern $Y \\supset X$\n",
    "- Closed pattern is a lossless compression of frequent patterns\n",
    "    - reducing the number of patterns and rules"
   ]
  },
  {
   "cell_type": "markdown",
   "metadata": {},
   "source": [
    "## Example\n",
    "\n",
    "- $\\{<a_1,\\ldots,a_{100}>,<a_1,\\ldots,a_{50}>\\}$, min_sup = 0.5\n",
    "- Frequent pattern?\n",
    "    - all item combinations\n",
    "- Closed pattern?\n",
    "    - $<a_1,\\ldots,a_{100}>$: 1\n",
    "    - $<a_1,\\ldots,a_{50}>$: 2\n",
    "- Max-pattern?\n",
    "    - $<a_1,\\ldots,a_{100}>$: 1"
   ]
  }
 ],
 "metadata": {
  "language_info": {
   "name": "python"
  },
  "orig_nbformat": 4
 },
 "nbformat": 4,
 "nbformat_minor": 2
}
