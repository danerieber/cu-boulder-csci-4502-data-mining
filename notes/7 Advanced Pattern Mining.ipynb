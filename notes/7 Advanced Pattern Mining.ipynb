{
 "cells": [
  {
   "cell_type": "markdown",
   "metadata": {},
   "source": [
    "## Road Map\n",
    "\n",
    "- **Kinds of patterns**\n",
    "    - set, sequential, structural\n",
    "- **Completeness**\n",
    "    - all, closed, maximal, constrained, approximate, near-match, top-k\n",
    "- **Levels of abstraction**\n",
    "    - e.g., computer $\\Rightarrow$ printer; laptop $\\Rightarrow$ HP_printer\n",
    "- **Number of data dimensions**\n",
    "    - computer $\\Rightarrow$ printer; (age: 30-39, income: 42K-48K) $\\Rightarrow$ HDTV\n",
    "- **Types of value**\n",
    "    - Boolean: presence or absence; quantitative: e.g., age income\n",
    "- **Types of rules**\n",
    "    - association, correlation, gradient"
   ]
  },
  {
   "cell_type": "markdown",
   "metadata": {},
   "source": [
    "## Various Association Rules\n",
    "\n",
    "- Single-level, single-dimensional, Boolean value\n",
    "- **Multi-level** association rules\n",
    "    - support: uniform, reduced, group-based\n",
    "    - redundancy filtering: milk $\\Rightarrow$ wheat bread [8%, 70%]; 2% milk $\\Rightarrow$ wheat bread [2%, 72%]\n",
    "- **Multi-dimensional** association rules\n",
    "- **Quantitative** association rules"
   ]
  },
  {
   "cell_type": "markdown",
   "metadata": {},
   "source": [
    "## Multi-dimensional Association\n",
    "\n",
    "- Single-dimensional (**intra**-dimensional) rules:\n",
    "    - buys(X, \"milk\") $\\Rightarrow$ buys(X, \"bread\")\n",
    "- Multi-dimensional rules: $\\geq$ 2 predicates\n",
    "    - **inter**-dimensional (no repeated predicates)\n",
    "        - age(X, \"19-25\") and occupation(X, \"student\") $\\Rightarrow$ buys(X, \"coke\")\n",
    "    - **hybrid**-dimensional (repeated predicates)\n",
    "        - age(X, \"19-25\") and buys (X, \"popcorn\") $\\Rightarrow$ buys(X, \"coke\")"
   ]
  },
  {
   "cell_type": "markdown",
   "metadata": {},
   "source": [
    "## Categorical vs. Quantitative\n",
    "\n",
    "- **Categorical** attributes\n",
    "    - nominal, finite number of possible values, no ordering among values\n",
    "    - e.g., occupation, brand, color\n",
    "- **Quantitative** attributes\n",
    "    - numeric, implicit ordering among values\n",
    "    - e.g., age, income, price"
   ]
  },
  {
   "cell_type": "markdown",
   "metadata": {},
   "source": [
    "## Constraint-Based Mining\n",
    "\n",
    "- **Automatically** find **all** patterns in a data set\n",
    "    - Unrealistic! Too many patterns, not focused\n",
    "- Data mining should be an **interactive** process\n",
    "    - user directs what to be mined\n",
    "- **Constraint-based mining**\n",
    "    - user flexibility: provides constraints on what to be mined\n",
    "    - system optimization: more efficient mining"
   ]
  },
  {
   "cell_type": "markdown",
   "metadata": {},
   "source": [
    "## Constraints in Data Mining\n",
    "\n",
    "- Knowledge type constraint\n",
    "- Data constraint\n",
    "- Dimension/level constraint\n",
    "- Interestingness constraint\n",
    "- **Rule (or pattern)** constraint\n",
    "    - metarules (rule templates)\n",
    "    - #attributes, attribute values ,etc."
   ]
  },
  {
   "cell_type": "markdown",
   "metadata": {},
   "source": [
    "## Metarule-Guided Mining\n",
    "\n",
    "- $P_1(X, Y) \\land P_2(X, W) \\Rightarrow buys(X, \\text{\"office sw\"})$\n",
    "- $age(X, \\text{\"30-39\"}) \\land income(X, \\text{\"41K-60K\"}) \\Rightarrow buys(X, \\text{\"office sw\"})$\n",
    "- $P_1 \\land P_2 \\land \\ldots \\land P_a \\Rightarrow Q_1 \\land Q_2 \\land \\ldots \\land Q_b$\n",
    "    - n = a + b, find all n-predicate sets $L_n$\n",
    "    - compute the support of all a-predicate subsets of $L_n$\n",
    "    - compute the confidence of rules"
   ]
  },
  {
   "cell_type": "markdown",
   "metadata": {},
   "source": [
    "## Anti-Monotonicity\n",
    "\n",
    "- **Anti-monotonicity**\n",
    "    - if itemset S **violates** the constraint, so does any of its superset\n",
    "- Example\n",
    "    - sum(S.price) $\\leq$ 100: yes\n",
    "    - sum(S.price) $\\geq$ 100: no\n",
    "    - range(S.profit) $\\leq$ 15: yes"
   ]
  },
  {
   "cell_type": "markdown",
   "metadata": {},
   "source": [
    "## Monotonicity\n",
    "\n",
    "- **Monotonicity**\n",
    "    - if itemset S **satisfies** the constraint, so does any of its superset\n",
    "- Example\n",
    "    - sum(S.price) $\\geq$ 100: yes\n",
    "    - min(S.price) $\\leq$ 100: yes\n",
    "    - range(S.profit) $\\geq$ 15: yes"
   ]
  },
  {
   "cell_type": "markdown",
   "metadata": {},
   "source": [
    "## Succinctness\n",
    "\n",
    "- **Succinctness**\n",
    "    - enumerate all and only those sets that are guaranteed to satisfy the constraint\n",
    "- Example\n",
    "    - min(S.price) $\\leq$ v: yes\n",
    "    - sum(S.price) $\\geq$ v: no\n",
    "- Pre-counting prunable: no need for support counting"
   ]
  },
  {
   "cell_type": "markdown",
   "metadata": {},
   "source": [
    "## Convertible Constraints\n",
    "\n",
    "- Convert tough constraints into anti-monotonic or monotonic **by properly ordering items**\n",
    "- Example\n",
    "    - avg(S.profit) $\\geq$ 25\n",
    "    - ordering items in descending order: < a, f, g, d, b, h, c, e >\n",
    "    - if afb violates C, so does afb*\n",
    "    - it become anti-monotonic"
   ]
  },
  {
   "cell_type": "markdown",
   "metadata": {},
   "source": [
    "## Strongly Convertible\n",
    "\n",
    "- avg(S.profit) $\\geq$ 25 is convertible anti-monotonic w.r.t. descending order\n",
    "- avg(S.profit) $\\geq$ 25 is convertible monotonic w.r.t. ascending order\n",
    "- avg(S.profit) $\\geq$ 25 is **strongly convertible**"
   ]
  },
  {
   "cell_type": "markdown",
   "metadata": {},
   "source": [
    "## Classification of Constraints\n",
    "\n",
    "![Classification of Constraints](./img/7.1.png)"
   ]
  }
 ],
 "metadata": {
  "kernelspec": {
   "display_name": "Python 3.10.8 64-bit",
   "language": "python",
   "name": "python3"
  },
  "language_info": {
   "name": "python",
   "version": "3.10.8"
  },
  "orig_nbformat": 4,
  "vscode": {
   "interpreter": {
    "hash": "e7370f93d1d0cde622a1f8e1c04877d8463912d04d973331ad4851f04de6915a"
   }
  }
 },
 "nbformat": 4,
 "nbformat_minor": 2
}
